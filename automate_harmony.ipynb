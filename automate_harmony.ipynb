{
 "cells": [
  {
   "cell_type": "markdown",
   "metadata": {},
   "source": [
    "## init"
   ]
  },
  {
   "attachments": {},
   "cell_type": "markdown",
   "metadata": {},
   "source": [
    "Since I am responsible for virtually all data updates to the database for `<plan name>`, there can be ~60+ logs each week to process. Some can be closed after the database has been updated, while others (deaths) need to be re-assigned for further processing. \n",
    "\n",
    "The update process has been more or less sufficiently streamlined allowing for bulk updates done in batches. Manually closing/re-assigning ~60+ logs at once was a hassle though, so I hacked together this script. It's not the fastest (delays intentionally added as the site can be glitchy sometimes) but it works error-free and allows me to do other things while it runs in the background.  "
   ]
  },
  {
   "cell_type": "code",
   "execution_count": null,
   "metadata": {},
   "outputs": [],
   "source": [
    "import os\n",
    "import time\n",
    "\n",
    "import pandas as pd\n",
    "import yaml\n",
    "from loguru import logger\n",
    "from selenium import webdriver\n",
    "from selenium.webdriver.chrome.service import Service\n",
    "from selenium.webdriver.common.by import By\n",
    "from selenium.webdriver.common.keys import Keys\n",
    "from selenium.webdriver.support import expected_conditions as EC\n",
    "from selenium.webdriver.support.ui import WebDriverWait\n",
    "\n",
    "logger.add(\"loguru.log\")"
   ]
  },
  {
   "attachments": {},
   "cell_type": "markdown",
   "metadata": {},
   "source": [
    "### fxs"
   ]
  },
  {
   "cell_type": "markdown",
   "metadata": {},
   "source": [
    "#### init fxs"
   ]
  },
  {
   "cell_type": "code",
   "execution_count": null,
   "metadata": {},
   "outputs": [],
   "source": [
    "def return_yaml_data(\n",
    "    key: str = None, file_path: str = os.getcwd() + \"\\\\\" + \"config.yaml\"\n",
    "):\n",
    "    with open(file_path, \"r\") as f:\n",
    "        data = yaml.safe_load(f.read())\n",
    "\n",
    "    if key is None:\n",
    "        return data\n",
    "\n",
    "    try:\n",
    "        result = data[key]\n",
    "    except KeyError:\n",
    "        return data\n",
    "\n",
    "    return result\n",
    "\n",
    "\n",
    "def search_for_xpath_elem(xpath_str: str, time_limit: int = 30) -> list:\n",
    "    \"\"\"While len of search list is 0, keep searching. If exceeds time limit (seconds, approximate),  returns empty list.\"\"\"\n",
    "\n",
    "    ctr = 0\n",
    "    t_search = driver.find_elements(By.XPATH, xpath_str)\n",
    "\n",
    "    while (len(t_search) == 0) and (ctr < time_limit):\n",
    "        time.sleep(1)\n",
    "        ctr += 1\n",
    "        t_search = driver.find_elements(By.XPATH, xpath_str)\n",
    "\n",
    "    if len(t_search) > 0:\n",
    "        return t_search\n",
    "    else:\n",
    "        return []\n",
    "\n",
    "\n",
    "def return_data() -> pd.DataFrame:\n",
    "    latest = sorted(os.listdir(\"./data\"))[-1]\n",
    "    print(latest)\n",
    "\n",
    "    df = pd.read_excel(f\"./data/{latest}\")\n",
    "    df = df[[\"ticket_num\", \"death_update\"]].copy()\n",
    "    df.columns = [\"ticket_num\", \"log_action\"]\n",
    "\n",
    "    return df"
   ]
  },
  {
   "cell_type": "markdown",
   "metadata": {},
   "source": [
    "#### browser automation fxs"
   ]
  },
  {
   "cell_type": "code",
   "execution_count": null,
   "metadata": {},
   "outputs": [],
   "source": [
    "def login():\n",
    "    driver.get(HARMONY_URL)\n",
    "\n",
    "    t_search = search_for_xpath_elem(return_yaml_data(\"username_xpath\"))\n",
    "    t_search[0].send_keys(USERNAME)\n",
    "\n",
    "    t_search = search_for_xpath_elem(return_yaml_data(\"password_xpath\"))\n",
    "    t_search[0].send_keys(PASSWORD)\n",
    "    time.sleep(1)\n",
    "    t_search[0].send_keys(Keys.RETURN)"
   ]
  },
  {
   "cell_type": "code",
   "execution_count": null,
   "metadata": {},
   "outputs": [],
   "source": [
    "def search_ticket_num() -> None:\n",
    "    # click search by ticket number\n",
    "    time.sleep(1)\n",
    "    t_search = search_for_xpath_elem(return_yaml_data(\"log_search_xpath\"))\n",
    "    time.sleep(0.5)\n",
    "    t_search[0].click()\n",
    "\n",
    "    # refresh\n",
    "    t_search = search_for_xpath_elem(return_yaml_data(\"refresh_btn_xpath\"))\n",
    "    time.sleep(1)\n",
    "    t_search[0].click()\n",
    "\n",
    "    # input ticket number\n",
    "    t_search = search_for_xpath_elem(return_yaml_data(\"tkt_num_input_xpath\"))\n",
    "    time.sleep(1)\n",
    "    t_search[0].send_keys(str(ticket_num))\n",
    "\n",
    "    # click search\n",
    "    t_search = search_for_xpath_elem(return_yaml_data(\"tkt_num_button_xpath\"))\n",
    "    time.sleep(1)\n",
    "    t_search[0].click()"
   ]
  },
  {
   "cell_type": "code",
   "execution_count": null,
   "metadata": {},
   "outputs": [],
   "source": [
    "def view_log() -> None:\n",
    "    # there should only be one result\n",
    "    t_search = search_for_xpath_elem(return_yaml_data(\"result_actions_xpath\"))\n",
    "    time.sleep(1)\n",
    "    t_search[0].click()\n",
    "\n",
    "    # view log\n",
    "    t_search = search_for_xpath_elem(return_yaml_data(\"view_log_btn_xpath\"))\n",
    "    time.sleep(1)\n",
    "    t_search[0].click()"
   ]
  },
  {
   "cell_type": "code",
   "execution_count": null,
   "metadata": {},
   "outputs": [],
   "source": [
    "def click_edit_log() -> None:\n",
    "    t_search = search_for_xpath_elem(return_yaml_data(\"log_edit_btn_xpath\"))\n",
    "    time.sleep(1)\n",
    "    t_search[0].click()"
   ]
  },
  {
   "cell_type": "code",
   "execution_count": null,
   "metadata": {},
   "outputs": [],
   "source": [
    "def edit_and_submit(comment=\"done\"):\n",
    "    # xpath for resolution input differs by log type\n",
    "    xpath_list = return_yaml_data(\"resolution_input_xpath_list\")\n",
    "    t_search = []\n",
    "    while len(t_search) == 0:\n",
    "        for xpath_str in xpath_list:\n",
    "            t_search = driver.find_elements(By.XPATH, xpath_str)\n",
    "            time.sleep(0.5)\n",
    "            if len(t_search) > 0:\n",
    "                t_search[0].send_keys(comment)\n",
    "                break  # exit out of loop once element found\n",
    "\n",
    "    # xpath for submit button differs by log type\n",
    "    xpath_list = return_yaml_data(\"submit_btn_xpath_list\")\n",
    "    t_search = []\n",
    "    while len(t_search) == 0:\n",
    "        for xpath_str in xpath_list:\n",
    "            t_search = driver.find_elements(By.XPATH, xpath_str)\n",
    "            if len(t_search) > 0:\n",
    "                break  # exit out of loop once element found\n",
    "    t_search[0].click()"
   ]
  },
  {
   "cell_type": "code",
   "execution_count": null,
   "metadata": {},
   "outputs": [],
   "source": [
    "def reassign_log() -> None:\n",
    "    # there should only be one result\n",
    "    t_search = search_for_xpath_elem(return_yaml_data(\"result_actions_xpath\"))\n",
    "    time.sleep(0.5)\n",
    "    t_search[0].click()\n",
    "\n",
    "    # click re-assign\n",
    "    t_search = search_for_xpath_elem(return_yaml_data(\"reassign_btn_xpath\"))\n",
    "    time.sleep(0.5)\n",
    "    t_search[0].click()\n",
    "\n",
    "    # enter name\n",
    "    t_search = search_for_xpath_elem(return_yaml_data(\"search_user_xpath\"))\n",
    "    time.sleep(0.5)\n",
    "    t_search[0].send_keys(ASSIGN_TO)\n",
    "    time.sleep(0.3)\n",
    "    t_search[0].send_keys(Keys.RETURN)\n",
    "\n",
    "    # click assign button\n",
    "    t_search = search_for_xpath_elem(return_yaml_data(\"assign_btn_xpath\"))\n",
    "    time.sleep(0.3)\n",
    "    t_search[0].click()\n",
    "\n",
    "    # enter reason\n",
    "    t_search = search_for_xpath_elem(return_yaml_data(\"reason_input_xpath\"))\n",
    "    time.sleep(0.5)\n",
    "    t_search[0].send_keys(note)\n",
    "\n",
    "    # submit reason\n",
    "    time.sleep(1.5)\n",
    "    submit_reason_xpath = return_yaml_data(\"submit_reason_xpath\")\n",
    "    t_search = driver.find_elements(By.XPATH, submit_reason_xpath)\n",
    "    t_search[0].click()"
   ]
  },
  {
   "cell_type": "markdown",
   "metadata": {},
   "source": [
    "### login"
   ]
  },
  {
   "cell_type": "code",
   "execution_count": null,
   "metadata": {
    "lines_to_next_cell": 2
   },
   "outputs": [],
   "source": [
    "# private\n",
    "USERNAME = return_yaml_data(\"user\")\n",
    "PASSWORD = return_yaml_data(\"pass\")\n",
    "HARMONY_URL = return_yaml_data(\"url\")\n",
    "ASSIGN_TO = return_yaml_data(\"colleague\")\n",
    "\n",
    "serv = Service(return_yaml_data(\"chromedriver\"))\n",
    "driver = webdriver.Chrome(service=serv)\n",
    "login()"
   ]
  },
  {
   "attachments": {},
   "cell_type": "markdown",
   "metadata": {},
   "source": [
    "## run"
   ]
  },
  {
   "attachments": {},
   "cell_type": "markdown",
   "metadata": {},
   "source": [
    "### close logs"
   ]
  },
  {
   "cell_type": "code",
   "execution_count": null,
   "metadata": {},
   "outputs": [],
   "source": [
    "df = return_data()\n",
    "mask = df.ticket_num.isna()\n",
    "if df[mask].shape[0] != 0:\n",
    "    logger.warning(\"Missing ticket numbers in data\")\n",
    "\n",
    "# filter for only logs to close\n",
    "mask = df[\"log_action\"].str.strip().str.lower() == \"n\"\n",
    "logs_to_close = df[mask].copy()\n",
    "logs_to_close = logs_to_close.reset_index(drop=True).copy()\n",
    "logger.info(f\"Logs to close: {len(logs_to_close)}\")\n",
    "\n",
    "completed_list = []"
   ]
  },
  {
   "cell_type": "code",
   "execution_count": null,
   "metadata": {},
   "outputs": [],
   "source": [
    "for i in range(len(logs_to_close)):\n",
    "    ticket_num = logs_to_close.loc[i, \"ticket_num\"]\n",
    "\n",
    "    logger.info(i)\n",
    "    logger.info(ticket_num)\n",
    "    logger.info(f\"{i+1}/{len(logs_to_close)}\")\n",
    "\n",
    "    if ticket_num in completed_list:\n",
    "        logger.info(f\"already done {ticket_num}\")\n",
    "    else:\n",
    "        search_ticket_num()\n",
    "        view_log()\n",
    "        click_edit_log()\n",
    "        edit_and_submit()\n",
    "        time.sleep(0.5)\n",
    "        completed_list.append(ticket_num)\n",
    "        logger.info(f\"closed {ticket_num}\")"
   ]
  },
  {
   "attachments": {},
   "cell_type": "markdown",
   "metadata": {},
   "source": [
    "### reassign logs"
   ]
  },
  {
   "cell_type": "code",
   "execution_count": null,
   "metadata": {},
   "outputs": [],
   "source": [
    "df = return_data()\n",
    "mask = df.ticket_num.isna()\n",
    "if df[mask].shape[0] != 0:\n",
    "    logger.warning(\"Missing ticket numbers in data\")\n",
    "\n",
    "# filter for only logs to re-assign\n",
    "mask = df[\"log_action\"].str.strip().str.lower() != \"n\"\n",
    "logs_to_close = df[mask].copy()  # ignore this variable name\n",
    "logs_to_close = logs_to_close.reset_index(drop=True).copy()\n",
    "logger.info(f\"Logs to re-assign: {len(logs_to_close)}\")\n",
    "\n",
    "completed = []"
   ]
  },
  {
   "cell_type": "code",
   "execution_count": null,
   "metadata": {},
   "outputs": [],
   "source": [
    "for i in range(len(logs_to_close)):\n",
    "    ticket_num = logs_to_close.loc[i][\"ticket_num\"]\n",
    "    note = logs_to_close.loc[i][\"log_action\"]\n",
    "\n",
    "    logger.info(i)\n",
    "    logger.info(ticket_num)\n",
    "    logger.info(f\"{i+1}/{len(logs_to_close)}\")\n",
    "\n",
    "    if ticket_num in completed:\n",
    "        logger.info(f\"already done {ticket_num}\")\n",
    "    else:\n",
    "        search_ticket_num()\n",
    "        reassign_log()\n",
    "        time.sleep(2.7)\n",
    "        completed.append(ticket_num)\n",
    "        logger.info(f\"re-assigned {ticket_num} w/ note: {note}\")"
   ]
  },
  {
   "cell_type": "code",
   "execution_count": null,
   "metadata": {},
   "outputs": [],
   "source": []
  },
  {
   "cell_type": "code",
   "execution_count": null,
   "metadata": {},
   "outputs": [],
   "source": []
  },
  {
   "cell_type": "code",
   "execution_count": null,
   "metadata": {},
   "outputs": [],
   "source": []
  }
 ],
 "metadata": {
  "jupytext": {
   "formats": "ipynb,py"
  },
  "kernelspec": {
   "display_name": "py39",
   "language": "python",
   "name": "python3"
  },
  "language_info": {
   "codemirror_mode": {
    "name": "ipython",
    "version": 3
   },
   "file_extension": ".py",
   "mimetype": "text/x-python",
   "name": "python",
   "nbconvert_exporter": "python",
   "pygments_lexer": "ipython3",
   "version": "3.9.7"
  },
  "vscode": {
   "interpreter": {
    "hash": "b31a42de8bf1774fa4351a793c75c59361183357e7142c978d786a9d0619d709"
   }
  }
 },
 "nbformat": 4,
 "nbformat_minor": 2
}
